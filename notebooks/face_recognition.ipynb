{
 "cells": [
  {
   "cell_type": "markdown",
   "metadata": {},
   "source": [
    "# Face Recognition\n",
    "This module works to detect faces using the 'detect_face.py' file and pre-trained models of facenet\n",
    "https://github.com/davidsandberg/facenet <br><br>\n",
    "Goals:\n",
    "1. Load facenet and supporting modules without error\n",
    "2. Load images & Prepare\n",
    "3. Load pretrained weights to a network\n",
    "4. Run face detection on a few test images"
   ]
  },
  {
   "cell_type": "markdown",
   "metadata": {},
   "source": [
    "## 1. Imports"
   ]
  },
  {
   "cell_type": "code",
   "execution_count": 1,
   "metadata": {},
   "outputs": [],
   "source": [
    "# Import face detection file & other facenet files\n",
    "import sys\n",
    "sys.path.append('../')\n",
    "import facenet.src.align.detect_face as df"
   ]
  },
  {
   "cell_type": "code",
   "execution_count": 2,
   "metadata": {},
   "outputs": [],
   "source": [
    "# Import supporting packages\n",
    "%matplotlib inline\n",
    "import numpy as np\n",
    "import tensorflow as tf\n",
    "import imageio\n",
    "from matplotlib import pyplot as plt"
   ]
  },
  {
   "cell_type": "markdown",
   "metadata": {},
   "source": [
    "## 2. Load Images & Prepare"
   ]
  },
  {
   "cell_type": "code",
   "execution_count": 3,
   "metadata": {},
   "outputs": [],
   "source": [
    "# Filepaths for weight files\n",
    "det_path = '../facenet/src/align/'\n",
    "pnet_path = det_path + 'det1.npy'\n",
    "rnet_path = det_path + 'det2.npy'\n",
    "onet_path = det_path + 'det3.npy'"
   ]
  },
  {
   "cell_type": "code",
   "execution_count": null,
   "metadata": {
    "scrolled": true
   },
   "outputs": [],
   "source": [
    "test_path = '../test_data/FaceDetect/WiderDataset'\n",
    "test_img_orig = imageio.imread(test_path + '/4.jpg')\n",
    "plt.imshow(test_img_orig)\n",
    "plt.show()\n",
    "test_img = test_img_orig\n",
    "print(test_img.shape)"
   ]
  },
  {
   "cell_type": "markdown",
   "metadata": {},
   "source": [
    "## 3. Loading Pretrained Face Detection Network"
   ]
  },
  {
   "cell_type": "code",
   "execution_count": 17,
   "metadata": {},
   "outputs": [],
   "source": [
    "tf.reset_default_graph()\n",
    "sess = tf.Session()"
   ]
  },
  {
   "cell_type": "code",
   "execution_count": 18,
   "metadata": {},
   "outputs": [],
   "source": [
    "pnet, rnet, onet = df.create_mtcnn(sess, det_path)"
   ]
  },
  {
   "cell_type": "code",
   "execution_count": 21,
   "metadata": {},
   "outputs": [],
   "source": [
    "# Not sure how to set these parameters\n",
    "threshold = [0.5, 0.5, 0.5]\n",
    "factor = 0.99    \n",
    "minsize = 500\n",
    "boxes, points = df.detect_face(test_img, minsize, pnet, rnet, onet, threshold, factor)"
   ]
  },
  {
   "cell_type": "code",
   "execution_count": 22,
   "metadata": {},
   "outputs": [
    {
     "name": "stdout",
     "output_type": "stream",
     "text": [
      "[]\n",
      "[]\n"
     ]
    }
   ],
   "source": [
    "print(boxes)\n",
    "print(points)"
   ]
  }
 ],
 "metadata": {
  "kernelspec": {
   "display_name": "Python 3",
   "language": "python",
   "name": "python3"
  },
  "language_info": {
   "codemirror_mode": {
    "name": "ipython",
    "version": 3
   },
   "file_extension": ".py",
   "mimetype": "text/x-python",
   "name": "python",
   "nbconvert_exporter": "python",
   "pygments_lexer": "ipython3",
   "version": "3.6.3"
  }
 },
 "nbformat": 4,
 "nbformat_minor": 2
}
