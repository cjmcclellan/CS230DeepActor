{
 "cells": [
  {
   "cell_type": "markdown",
   "metadata": {},
   "source": [
    "# Face Recognition\n",
    "This module works to detect faces using the 'detect_face.py' file and pre-trained models of facenet\n",
    "https://github.com/davidsandberg/facenet <br><br>\n",
    "Goals:\n",
    "1. Load facenet and supporting modules without error\n",
    "2. Load pretrained weights to a network\n",
    "3. Run face detection on a few test images"
   ]
  },
  {
   "cell_type": "markdown",
   "metadata": {},
   "source": [
    "## 1. Imports"
   ]
  },
  {
   "cell_type": "code",
   "execution_count": 1,
   "metadata": {},
   "outputs": [],
   "source": [
    "# Import face detection file & other facenet files\n",
    "import sys\n",
    "sys.path.append('../')\n",
    "import facenet.src.align.detect_face as df"
   ]
  },
  {
   "cell_type": "code",
   "execution_count": 2,
   "metadata": {},
   "outputs": [],
   "source": [
    "# Import supporting packages\n",
    "import numpy as np\n",
    "import tensorflow as tf"
   ]
  },
  {
   "cell_type": "markdown",
   "metadata": {},
   "source": [
    "## 2. Loading Pretrained Face Detection Network"
   ]
  },
  {
   "cell_type": "code",
   "execution_count": 3,
   "metadata": {},
   "outputs": [],
   "source": [
    "# Filepaths for weight files\n",
    "det_path = '../facenet/src/align/'\n",
    "pnet_path = det_path + 'det1.npy'\n",
    "rnet_path = det_path + 'det2.npy'\n",
    "onet_path = det_path + 'det3.npy'"
   ]
  },
  {
   "cell_type": "code",
   "execution_count": 4,
   "metadata": {},
   "outputs": [],
   "source": [
    "with tf.Session() as sess:\n",
    "    face_rec = df.create_mtcnn(sess, det_path)"
   ]
  }
 ],
 "metadata": {
  "kernelspec": {
   "display_name": "Python 3",
   "language": "python",
   "name": "python3"
  },
  "language_info": {
   "codemirror_mode": {
    "name": "ipython",
    "version": 3
   },
   "file_extension": ".py",
   "mimetype": "text/x-python",
   "name": "python",
   "nbconvert_exporter": "python",
   "pygments_lexer": "ipython3",
   "version": "3.6.3"
  }
 },
 "nbformat": 4,
 "nbformat_minor": 2
}
