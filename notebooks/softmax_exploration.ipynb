{
 "cells": [
  {
   "cell_type": "code",
   "execution_count": 4,
   "metadata": {},
   "outputs": [],
   "source": [
    "import sys\n",
    "sys.path.append('../')\n",
    "import argparse\n",
    "import facenet.src.train_softmax as sm\n",
    "import os"
   ]
  },
  {
   "cell_type": "code",
   "execution_count": 2,
   "metadata": {},
   "outputs": [],
   "source": [
    "# gets default args\n",
    "args = sm.parse_arguments([])\n",
    "print(args)"
   ]
  },
  {
   "cell_type": "code",
   "execution_count": 9,
   "metadata": {},
   "outputs": [
    {
     "name": "stdout",
     "output_type": "stream",
     "text": [
      "/home/alex/Documents/CS230DeepActor/models/ridiculous6\n"
     ]
    }
   ],
   "source": [
    "facenet_model_checkpoint = os.path.abspath(\"../models/pretrained_facenet/20170512-110547\")\n",
    "models_base_dir = os.path.abspath('../models/softmax/ridiculous6/')\n",
    "logs_base_dir = os.path.abspath('../logs/softmax/ridiculous6/')\n",
    "data_dir = os.path.abspath('../train_data/FaceID/The_Ridiculous_6_2015_movie/flattened/')\n",
    "\n",
    "args.logs_base_dir = logs_base_dir\n",
    "args.models_base_dir = models_base_dir\n",
    "args.pretrained_model = facenet_model_checkpoint\n",
    "args.data_dir = data_dir\n"
   ]
  }
 ],
 "metadata": {
  "kernelspec": {
   "display_name": "Python 3",
   "language": "python",
   "name": "python3"
  },
  "language_info": {
   "codemirror_mode": {
    "name": "ipython",
    "version": 3
   },
   "file_extension": ".py",
   "mimetype": "text/x-python",
   "name": "python",
   "nbconvert_exporter": "python",
   "pygments_lexer": "ipython3",
   "version": "3.6.3"
  }
 },
 "nbformat": 4,
 "nbformat_minor": 2
}
