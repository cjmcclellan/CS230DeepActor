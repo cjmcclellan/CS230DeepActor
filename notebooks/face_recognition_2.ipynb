{
 "cells": [
  {
   "cell_type": "markdown",
   "metadata": {},
   "source": [
    "# Face Recognition 2\n",
    "This module works to detect faces using the 'face.py' file and pre-trained models of facenet\n",
    "https://github.com/davidsandberg/facenet <br><br>\n",
    "Goals:\n",
    "1. Load facenet and supporting modules without error\n",
    "2. Load images & Prepare\n",
    "3. Create Detection class\n",
    "4. Run face detection on a few test images"
   ]
  },
  {
   "cell_type": "code",
   "execution_count": 4,
   "metadata": {},
   "outputs": [],
   "source": [
    "# Import face detection file & other facenet files\n",
    "import sys\n",
    "sys.path.append('../')\n",
    "# import facenet.src.align\n",
    "import facenet.contributed.face as df"
   ]
  },
  {
   "cell_type": "code",
   "execution_count": null,
   "metadata": {},
   "outputs": [],
   "source": []
  }
 ],
 "metadata": {
  "kernelspec": {
   "display_name": "Python 3",
   "language": "python",
   "name": "python3"
  },
  "language_info": {
   "codemirror_mode": {
    "name": "ipython",
    "version": 3
   },
   "file_extension": ".py",
   "mimetype": "text/x-python",
   "name": "python",
   "nbconvert_exporter": "python",
   "pygments_lexer": "ipython3",
   "version": "3.6.3"
  }
 },
 "nbformat": 4,
 "nbformat_minor": 2
}
