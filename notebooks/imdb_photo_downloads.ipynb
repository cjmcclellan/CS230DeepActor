{
 "cells": [
  {
   "cell_type": "markdown",
   "metadata": {},
   "source": [
    "Goal of this script is to take a movie title and then build a quick database of faces for characters in the movie. For example, we take the top 10 actors in a movie, then we get 30 images (just for project size considerations) of that actor's face, hopefully in that role.\n",
    "\n",
    "This will hopefully work by some sort of IMDB query of the movie title which will return the top billed cast. Then the cast members names (along with movie title) can be searched with google images and download images. Each of the images will pass through the face detection algorithm. Only photos with a single face will used for this process."
   ]
  },
  {
   "cell_type": "markdown",
   "metadata": {},
   "source": [
    "### Initialize IMDB"
   ]
  },
  {
   "cell_type": "code",
   "execution_count": 33,
   "metadata": {},
   "outputs": [
    {
     "ename": "ArgumentError",
     "evalue": "Could not parse rfc1738 URL from string 'uri'",
     "output_type": "error",
     "traceback": [
      "\u001b[0;31m---------------------------------------------------------------------------\u001b[0m",
      "\u001b[0;31mArgumentError\u001b[0m                             Traceback (most recent call last)",
      "\u001b[0;32m<ipython-input-33-e9ca2f90df09>\u001b[0m in \u001b[0;36m<module>\u001b[0;34m()\u001b[0m\n\u001b[1;32m      1\u001b[0m \u001b[0;32mfrom\u001b[0m \u001b[0mimdb\u001b[0m \u001b[0;32mimport\u001b[0m \u001b[0mIMDb\u001b[0m\u001b[0;34m\u001b[0m\u001b[0m\n\u001b[1;32m      2\u001b[0m \u001b[0;32mfrom\u001b[0m \u001b[0mimdb\u001b[0m\u001b[0;34m.\u001b[0m\u001b[0mutils\u001b[0m \u001b[0;32mimport\u001b[0m \u001b[0;34m*\u001b[0m\u001b[0;34m\u001b[0m\u001b[0m\n\u001b[0;32m----> 3\u001b[0;31m \u001b[0mia\u001b[0m \u001b[0;34m=\u001b[0m \u001b[0mIMDb\u001b[0m\u001b[0;34m(\u001b[0m\u001b[0;34m'sql'\u001b[0m\u001b[0;34m,\u001b[0m \u001b[0;34m'uri'\u001b[0m\u001b[0;34m)\u001b[0m\u001b[0;34m\u001b[0m\u001b[0m\n\u001b[0m",
      "\u001b[0;32m~/Documents/CS230DeepActor/venv/lib/python3.6/site-packages/imdb/__init__.py\u001b[0m in \u001b[0;36mIMDb\u001b[0;34m(accessSystem, *arguments, **keywords)\u001b[0m\n\u001b[1;32m    203\u001b[0m         \u001b[0;32mexcept\u001b[0m \u001b[0mImportError\u001b[0m\u001b[0;34m:\u001b[0m\u001b[0;34m\u001b[0m\u001b[0m\n\u001b[1;32m    204\u001b[0m             \u001b[0;32mraise\u001b[0m \u001b[0mIMDbError\u001b[0m\u001b[0;34m(\u001b[0m\u001b[0;34m'the sql access system is not installed'\u001b[0m\u001b[0;34m)\u001b[0m\u001b[0;34m\u001b[0m\u001b[0m\n\u001b[0;32m--> 205\u001b[0;31m         \u001b[0;32mreturn\u001b[0m \u001b[0mIMDbSqlAccessSystem\u001b[0m\u001b[0;34m(\u001b[0m\u001b[0;34m*\u001b[0m\u001b[0marguments\u001b[0m\u001b[0;34m,\u001b[0m \u001b[0;34m**\u001b[0m\u001b[0mkeywords\u001b[0m\u001b[0;34m)\u001b[0m\u001b[0;34m\u001b[0m\u001b[0m\n\u001b[0m\u001b[1;32m    206\u001b[0m     \u001b[0;32melse\u001b[0m\u001b[0;34m:\u001b[0m\u001b[0;34m\u001b[0m\u001b[0m\n\u001b[1;32m    207\u001b[0m         \u001b[0;32mraise\u001b[0m \u001b[0mIMDbError\u001b[0m\u001b[0;34m(\u001b[0m\u001b[0;34m'unknown kind of data access system: \"%s\"'\u001b[0m \u001b[0;34m%\u001b[0m \u001b[0maccessSystem\u001b[0m\u001b[0;34m)\u001b[0m\u001b[0;34m\u001b[0m\u001b[0m\n",
      "\u001b[0;32m~/Documents/CS230DeepActor/venv/lib/python3.6/site-packages/imdb/parser/sql/__init__.py\u001b[0m in \u001b[0;36m__init__\u001b[0;34m(self, uri, adultSearch, *arguments, **keywords)\u001b[0m\n\u001b[1;32m    571\u001b[0m         \u001b[0mself\u001b[0m\u001b[0;34m.\u001b[0m\u001b[0m_sql_logger\u001b[0m\u001b[0;34m.\u001b[0m\u001b[0mdebug\u001b[0m\u001b[0;34m(\u001b[0m\u001b[0;34m'connecting to %s'\u001b[0m\u001b[0;34m,\u001b[0m \u001b[0muri\u001b[0m\u001b[0;34m)\u001b[0m\u001b[0;34m\u001b[0m\u001b[0m\n\u001b[1;32m    572\u001b[0m         \u001b[0;32mtry\u001b[0m\u001b[0;34m:\u001b[0m\u001b[0;34m\u001b[0m\u001b[0m\n\u001b[0;32m--> 573\u001b[0;31m             \u001b[0mself\u001b[0m\u001b[0;34m.\u001b[0m\u001b[0m_connection\u001b[0m \u001b[0;34m=\u001b[0m \u001b[0msetConnection\u001b[0m\u001b[0;34m(\u001b[0m\u001b[0muri\u001b[0m\u001b[0;34m,\u001b[0m \u001b[0mDB_TABLES\u001b[0m\u001b[0;34m)\u001b[0m\u001b[0;34m\u001b[0m\u001b[0m\n\u001b[0m\u001b[1;32m    574\u001b[0m         \u001b[0;32mexcept\u001b[0m \u001b[0mAssertionError\u001b[0m \u001b[0;32mas\u001b[0m \u001b[0me\u001b[0m\u001b[0;34m:\u001b[0m\u001b[0;34m\u001b[0m\u001b[0m\n\u001b[1;32m    575\u001b[0m             raise IMDbDataAccessError(\n",
      "\u001b[0;32m~/Documents/CS230DeepActor/venv/lib/python3.6/site-packages/imdb/parser/sql/alchemyadapter.py\u001b[0m in \u001b[0;36msetConnection\u001b[0;34m(uri, tables, encoding, debug)\u001b[0m\n\u001b[1;32m    453\u001b[0m         \u001b[0mparams\u001b[0m\u001b[0;34m[\u001b[0m\u001b[0;34m'convert_unicode'\u001b[0m\u001b[0;34m]\u001b[0m \u001b[0;34m=\u001b[0m \u001b[0;32mTrue\u001b[0m\u001b[0;34m\u001b[0m\u001b[0m\n\u001b[1;32m    454\u001b[0m     \u001b[0;31m# XXX: is this the best way to connect?\u001b[0m\u001b[0;34m\u001b[0m\u001b[0;34m\u001b[0m\u001b[0m\n\u001b[0;32m--> 455\u001b[0;31m     \u001b[0mengine\u001b[0m \u001b[0;34m=\u001b[0m \u001b[0mcreate_engine\u001b[0m\u001b[0;34m(\u001b[0m\u001b[0muri\u001b[0m\u001b[0;34m,\u001b[0m \u001b[0;34m**\u001b[0m\u001b[0mparams\u001b[0m\u001b[0;34m)\u001b[0m\u001b[0;34m\u001b[0m\u001b[0m\n\u001b[0m\u001b[1;32m    456\u001b[0m     \u001b[0mmetadata\u001b[0m\u001b[0;34m.\u001b[0m\u001b[0mbind\u001b[0m \u001b[0;34m=\u001b[0m \u001b[0mengine\u001b[0m\u001b[0;34m\u001b[0m\u001b[0m\n\u001b[1;32m    457\u001b[0m     \u001b[0meng_conn\u001b[0m \u001b[0;34m=\u001b[0m \u001b[0mengine\u001b[0m\u001b[0;34m.\u001b[0m\u001b[0mconnect\u001b[0m\u001b[0;34m(\u001b[0m\u001b[0;34m)\u001b[0m\u001b[0;34m\u001b[0m\u001b[0m\n",
      "\u001b[0;32m~/Documents/CS230DeepActor/venv/lib/python3.6/site-packages/sqlalchemy/engine/__init__.py\u001b[0m in \u001b[0;36mcreate_engine\u001b[0;34m(*args, **kwargs)\u001b[0m\n\u001b[1;32m    422\u001b[0m     \u001b[0mstrategy\u001b[0m \u001b[0;34m=\u001b[0m \u001b[0mkwargs\u001b[0m\u001b[0;34m.\u001b[0m\u001b[0mpop\u001b[0m\u001b[0;34m(\u001b[0m\u001b[0;34m'strategy'\u001b[0m\u001b[0;34m,\u001b[0m \u001b[0mdefault_strategy\u001b[0m\u001b[0;34m)\u001b[0m\u001b[0;34m\u001b[0m\u001b[0m\n\u001b[1;32m    423\u001b[0m     \u001b[0mstrategy\u001b[0m \u001b[0;34m=\u001b[0m \u001b[0mstrategies\u001b[0m\u001b[0;34m.\u001b[0m\u001b[0mstrategies\u001b[0m\u001b[0;34m[\u001b[0m\u001b[0mstrategy\u001b[0m\u001b[0;34m]\u001b[0m\u001b[0;34m\u001b[0m\u001b[0m\n\u001b[0;32m--> 424\u001b[0;31m     \u001b[0;32mreturn\u001b[0m \u001b[0mstrategy\u001b[0m\u001b[0;34m.\u001b[0m\u001b[0mcreate\u001b[0m\u001b[0;34m(\u001b[0m\u001b[0;34m*\u001b[0m\u001b[0margs\u001b[0m\u001b[0;34m,\u001b[0m \u001b[0;34m**\u001b[0m\u001b[0mkwargs\u001b[0m\u001b[0;34m)\u001b[0m\u001b[0;34m\u001b[0m\u001b[0m\n\u001b[0m\u001b[1;32m    425\u001b[0m \u001b[0;34m\u001b[0m\u001b[0m\n\u001b[1;32m    426\u001b[0m \u001b[0;34m\u001b[0m\u001b[0m\n",
      "\u001b[0;32m~/Documents/CS230DeepActor/venv/lib/python3.6/site-packages/sqlalchemy/engine/strategies.py\u001b[0m in \u001b[0;36mcreate\u001b[0;34m(self, name_or_url, **kwargs)\u001b[0m\n\u001b[1;32m     48\u001b[0m     \u001b[0;32mdef\u001b[0m \u001b[0mcreate\u001b[0m\u001b[0;34m(\u001b[0m\u001b[0mself\u001b[0m\u001b[0;34m,\u001b[0m \u001b[0mname_or_url\u001b[0m\u001b[0;34m,\u001b[0m \u001b[0;34m**\u001b[0m\u001b[0mkwargs\u001b[0m\u001b[0;34m)\u001b[0m\u001b[0;34m:\u001b[0m\u001b[0;34m\u001b[0m\u001b[0m\n\u001b[1;32m     49\u001b[0m         \u001b[0;31m# create url.URL object\u001b[0m\u001b[0;34m\u001b[0m\u001b[0;34m\u001b[0m\u001b[0m\n\u001b[0;32m---> 50\u001b[0;31m         \u001b[0mu\u001b[0m \u001b[0;34m=\u001b[0m \u001b[0murl\u001b[0m\u001b[0;34m.\u001b[0m\u001b[0mmake_url\u001b[0m\u001b[0;34m(\u001b[0m\u001b[0mname_or_url\u001b[0m\u001b[0;34m)\u001b[0m\u001b[0;34m\u001b[0m\u001b[0m\n\u001b[0m\u001b[1;32m     51\u001b[0m \u001b[0;34m\u001b[0m\u001b[0m\n\u001b[1;32m     52\u001b[0m         \u001b[0mplugins\u001b[0m \u001b[0;34m=\u001b[0m \u001b[0mu\u001b[0m\u001b[0;34m.\u001b[0m\u001b[0m_instantiate_plugins\u001b[0m\u001b[0;34m(\u001b[0m\u001b[0mkwargs\u001b[0m\u001b[0;34m)\u001b[0m\u001b[0;34m\u001b[0m\u001b[0m\n",
      "\u001b[0;32m~/Documents/CS230DeepActor/venv/lib/python3.6/site-packages/sqlalchemy/engine/url.py\u001b[0m in \u001b[0;36mmake_url\u001b[0;34m(name_or_url)\u001b[0m\n\u001b[1;32m    209\u001b[0m \u001b[0;34m\u001b[0m\u001b[0m\n\u001b[1;32m    210\u001b[0m     \u001b[0;32mif\u001b[0m \u001b[0misinstance\u001b[0m\u001b[0;34m(\u001b[0m\u001b[0mname_or_url\u001b[0m\u001b[0;34m,\u001b[0m \u001b[0mutil\u001b[0m\u001b[0;34m.\u001b[0m\u001b[0mstring_types\u001b[0m\u001b[0;34m)\u001b[0m\u001b[0;34m:\u001b[0m\u001b[0;34m\u001b[0m\u001b[0m\n\u001b[0;32m--> 211\u001b[0;31m         \u001b[0;32mreturn\u001b[0m \u001b[0m_parse_rfc1738_args\u001b[0m\u001b[0;34m(\u001b[0m\u001b[0mname_or_url\u001b[0m\u001b[0;34m)\u001b[0m\u001b[0;34m\u001b[0m\u001b[0m\n\u001b[0m\u001b[1;32m    212\u001b[0m     \u001b[0;32melse\u001b[0m\u001b[0;34m:\u001b[0m\u001b[0;34m\u001b[0m\u001b[0m\n\u001b[1;32m    213\u001b[0m         \u001b[0;32mreturn\u001b[0m \u001b[0mname_or_url\u001b[0m\u001b[0;34m\u001b[0m\u001b[0m\n",
      "\u001b[0;32m~/Documents/CS230DeepActor/venv/lib/python3.6/site-packages/sqlalchemy/engine/url.py\u001b[0m in \u001b[0;36m_parse_rfc1738_args\u001b[0;34m(name)\u001b[0m\n\u001b[1;32m    268\u001b[0m     \u001b[0;32melse\u001b[0m\u001b[0;34m:\u001b[0m\u001b[0;34m\u001b[0m\u001b[0m\n\u001b[1;32m    269\u001b[0m         raise exc.ArgumentError(\n\u001b[0;32m--> 270\u001b[0;31m             \"Could not parse rfc1738 URL from string '%s'\" % name)\n\u001b[0m\u001b[1;32m    271\u001b[0m \u001b[0;34m\u001b[0m\u001b[0m\n\u001b[1;32m    272\u001b[0m \u001b[0;34m\u001b[0m\u001b[0m\n",
      "\u001b[0;31mArgumentError\u001b[0m: Could not parse rfc1738 URL from string 'uri'"
     ]
    }
   ],
   "source": [
    "from imdb import IMDb\n",
    "from imdb.utils import *\n",
    "ia = IMDb('sql', 'uri')"
   ]
  },
  {
   "cell_type": "markdown",
   "metadata": {},
   "source": [
    "IMDB package was being annoying so I copied a function out here"
   ]
  },
  {
   "cell_type": "markdown",
   "metadata": {},
   "source": [
    "### Select Newest Start Wars Movie"
   ]
  },
  {
   "cell_type": "code",
   "execution_count": 27,
   "metadata": {
    "scrolled": true
   },
   "outputs": [
    {
     "name": "stdout",
     "output_type": "stream",
     "text": [
      "{'data': [('2527336', {'title': 'Star Wars: The Last Jedi', 'kind': 'movie', 'year': 2017}, None), ('3486354', {'title': 'Star Wars: The Last Jedi', 'kind': 'short', 'year': 2008}, None), ('7896080', {'episode of': 'I Hate Everything', 'series year': 2013, 'title': 'Star Wars: The Last Jedi', 'kind': 'episode', 'year': 2018}, None), ('7769872', {'title': 'Star Wars: The Last Jedi Cast Live Q&A', 'kind': 'tv movie', 'year': 2017}, None), ('7745172', {'episode of': 'The Screen Junkies Show', 'series year': 2011, 'title': 'Star Wars: The Last Jedi - Review! (No Spoilers!)', 'kind': 'episode', 'year': 2017}, None), ('7701852', {'episode of': 'Nostalgia Critic', 'series year': 2007, 'title': 'Star Wars: The Last Jedi', 'kind': 'episode', 'year': 2017}, None), ('7760714', {'episode of': 'Caillou Pettis Movie Reviews', 'series year': 2016, 'title': 'Star Wars: The Last Jedi', 'kind': 'episode', 'year': 2017}, None), ('7767902', {'episode of': 'Half in the Bag', 'series year': 2011, 'title': 'Star Wars: The Last Jedi', 'kind': 'episode', 'year': 2017}, None), ('7843732', {'episode of': 'GallifreyanAvenger Reviews', 'series year': 2014, 'title': 'Star Wars: The Last Jedi', 'kind': 'episode', 'year': 2018}, None), ('7741030', {'episode of': \"Roeper's Reviews\", 'series year': 2015, 'title': 'Star Wars: The Last Jedi', 'kind': 'episode', 'year': 2017}, None), ('7909372', {'episode of': 'Picture & Score', 'series year': 2017, 'title': 'Star Wars: The Last Jedi', 'kind': 'episode', 'year': 2017}, None), ('7759086', {'episode of': \"Scott Sullivan's Movie Reviews\", 'series year': 2017, 'title': 'Star Wars: The Last Jedi', 'kind': 'episode', 'year': 2017}, None), ('7818564', {'episode of': 'Esquina del Cine', 'series year': 2012, 'title': 'Star Wars: The Last Jedi', 'kind': 'episode', 'year': 2017}, None), ('7851668', {'episode of': 'The Screening Room', 'series year': 2008, 'title': 'Star Wars: The Last Jedi', 'kind': 'episode', 'year': 2018}, None), ('7741398', {'episode of': 'Chris Stuckmann Movie Reviews', 'series year': 2011, 'title': 'Star Wars: The Last Jedi', 'kind': 'episode', 'year': 2017}, None), ('7754942', {'episode of': 'Midnight Screenings', 'series year': 2011, 'title': 'Star Wars: The Last Jedi', 'kind': 'episode', 'year': 2017}, None), ('7692260', {'episode of': 'Toon Sandwich', 'series year': 2015, 'title': 'Star Wars: The Last Jedi', 'kind': 'episode', 'year': 2017}, None), ('7745354', {'episode of': 'Roberto Leoni Movie Reviews', 'series year': 2017, 'title': 'Star Wars: the Last Jedi', 'kind': 'episode', 'year': 2017}, None), ('7949344', {'episode of': {'title': 'Star Wars: The Last Jedi', 'kind': 'tv series'}, 'series year': 1995, 'title': 'Cast', 'kind': 'episode', 'year': 2017}, None), ('7639264', {'episode of': {'title': 'Star Wars: The Last Jedi', 'kind': 'tv series'}, 'series year': 2003, 'title': 'Cast', 'kind': 'episode', 'year': 2017}, None), ('8080688', {'episode of': 'Movie Surfers', 'series year': 1998, 'title': 'Star Wars VIII The Last Jedi', 'kind': 'episode', 'year': 2018}, None), ('7781950', {'episode of': 'Caillou Pettis Movie Reviews', 'series year': 2016, 'title': 'Star Wars: The Last Jedi Spoilers', 'kind': 'episode', 'year': 2017}, None), ('7640228', {'title': 'Inter star wars 2. The last jehi', 'kind': 'movie', 'year': 2017}, None), ('3486324', {'title': 'Star Wars: Last Stand of the Jedi', 'kind': 'short', 'year': 2008}, None), ('7768586', {'title': 'Live from the Red Carpet of Star Wars: The Last Jedi', 'kind': 'tv movie', 'year': 2017}, None), ('8045294', {'title': 'Star Wars: The Last Forcebender', 'kind': 'video movie', 'year': 2018}, None), ('7810706', {'title': 'That movie is not Star wars. Episode VII. Last jedi', 'kind': 'movie', 'year': 2017}, None), ('7787308', {'title': 'Master the Drive: Nissan Road to Star Wars - The Last Jedi', 'kind': 'tv movie', 'year': 2017}, None), ('7874908', {'episode of': 'Film Theory', 'series year': 2015, 'title': \"Rey's Parents SOLVED! (Star Wars: The Last Jedi)\", 'kind': 'episode', 'year': 2017}, None), ('7524584', {'episode of': 'Adults React', 'series year': 2015, 'title': 'ADULTS REACT TO STAR WARS: THE LAST JEDI TRAILER', 'kind': 'episode', 'year': 2017}, None), ('7859004', {'episode of': 'Toku Talk', 'series year': 2017, 'title': 'January Premieres and Star Wars: The Last Jedi', 'kind': 'episode', 'year': 2017}, None), ('7771904', {'episode of': 'Film Discussions', 'series year': 2016, 'title': 'Star Wars: The Last Jedi Film Discussion and Review', 'kind': 'episode', 'year': 2017}, None), ('8003032', {'episode of': 'Screen Rant Pitch Meetings', 'series year': 2017, 'title': 'Star Wars: The Last Jedi: How It All Started', 'kind': 'episode', 'year': 2017}, None), ('7859018', {'episode of': 'WatchMojo', 'series year': 2006, 'title': 'Top 10 Questions Star Wars: The Last Jedi Did Not Answer', 'kind': 'episode', 'year': 2018}, None), ('7960086', {'episode of': 'Film Theory', 'series year': 2015, 'title': 'How Star Wars Theories KILLED Star Wars: The Last Jedi!', 'kind': 'episode', 'year': 2018}, None), ('7754974', {'episode of': 'Chris Stuckmann Movie Reviews', 'series year': 2011, 'title': 'Star Wars: The Last Jedi - Spoiler Review', 'kind': 'episode', 'year': 2017}, None), ('7928414', {'episode of': '107 Facts', 'series year': 2015, 'title': '107 Facts About Star Wars: The Last Jedi', 'kind': 'episode', 'year': 2018}, None), ('7836762', {'episode of': 'WatchMojo', 'series year': 2006, 'title': 'Top 5 Things Star Wars: The Last Jedi Got Right', 'kind': 'episode', 'year': 2018}, None), ('8003618', {'episode of': 'How It Should Have Ended', 'series year': 2005, 'title': 'How Star Wars: The Last Jedi Should Have Ended', 'kind': 'episode', 'year': 2018}, None), ('7836806', {'episode of': 'WatchMojo', 'series year': 2006, 'title': 'Top 5 Legitimate Gripes with Star Wars: The Last Jedi', 'kind': 'episode', 'year': 2018}, None), ('8037052', {'episode of': 'Patrick Willems Video Essays', 'series year': 2016, 'title': 'The Last Jedi: What Do We Want from a Star Wars Movie?', 'kind': 'episode', 'year': 2018}, None), ('6520712', {'title': 'Star Worlds Episode XXXIVE=MC2: The Force Awakens the Last Jedi Who Went Rogue', 'kind': 'movie'}, None), ('7874910', {'episode of': 'Film Theory', 'series year': 2015, 'title': 'How Luke will DIE (Star Wars: The Last Jedi ENDING REVEALED!)', 'kind': 'episode', 'year': 2017}, None), ('7768402', {'episode of': 'The Star Wars Show', 'series year': 2016, 'title': \"Kelly Marie Tran's The Last Jedi Prank and Google Home's Star Wars Trivia BTS\", 'kind': 'episode', 'year': 2017}, None), ('6806528', {'episode of': 'Adults React', 'series year': 2015, 'title': 'Adults React to Star Wars: The Last Jedi Official Trailer (Ft. FBE Staff)', 'kind': 'episode', 'year': 2017}, None), ('6961836', {'episode of': 'IMDb Originals', 'series year': 2015, 'title': \"10 Questions About the 'Star Wars: The Last Jedi' Teaser Trailer\", 'kind': 'episode', 'year': 2017}, None), ('7215738', {'episode of': 'IMDb Trailer With Commentary', 'series year': 2016, 'title': \"'Star Wars: The Last Jedi' Trailer With Kevin Smith's Commentary\", 'kind': 'episode', 'year': 2017}, None), ('7960066', {'episode of': 'The Oh My Disney Show', 'series year': 2017, 'title': 'Daisy Ridley and Adam Driver Talk About Working Together on Star Wars: The Last Jedi', 'kind': 'episode', 'year': 2017}, None), ('8045518', {'episode of': 'The Star Wars Show', 'series year': 2016, 'title': 'Han Solo Movie Composer REVEALED, New Star Wars: The Last Jedi Books, and SDCC!', 'kind': 'episode', 'year': 2017}, None), ('7959756', {'episode of': 'The Oh My Disney Show', 'series year': 2017, 'title': 'Red Carpet Interviews at the World Premiere of Star Wars: The Last Jedi', 'kind': 'episode', 'year': 2017}, None), ('6877260', {'episode of': 'Council of Geeks', 'series year': 2012, 'title': 'Star Wars Episode VIII: The Last Jedi - Trailer Reaction', 'kind': 'episode', 'year': 2017}, None), ('7877140', {'episode of': 'Council of Geeks', 'series year': 2012, 'title': \"What's the Star Wars Future Looking Like a Month After Last Jedi?\", 'kind': 'episode', 'year': 2018}, None), ('8042912', {'episode of': 'The Monday Show', 'series year': 2017, 'title': 'Fanboys, STAR WARS 1-7 + The Last Jedi SPOILER Discussion', 'kind': 'episode', 'year': 2017}, None), ('7569762', {'episode of': 'Made in Hollywood', 'series year': 2005, 'title': 'Star Wars: The Last Jedi/Jumanji: Welcome to the Jungle/The Greatest Showman/Downsizing', 'kind': 'episode', 'year': 2017}, None), ('8045526', {'episode of': 'The Star Wars Show', 'series year': 2016, 'title': 'New The Last Jedi Images, The Star Wars Show Goes Hollywood, Lost Lucasfilm Loot, & More!', 'kind': 'episode', 'year': 2017}, None), ('8045486', {'episode of': 'The Star Wars Show', 'series year': 2016, 'title': 'The Last Jedi Comes Home, Solo Books Revealed & New Star Wars Toys from Toy Fair 2018!', 'kind': 'episode', 'year': 2018}, None), ('8019070', {'episode of': 'The Star Wars Show', 'series year': 2016, 'title': 'The Last Jedi Novelization to Feature Deleted Scenes, Star Wars Day at Sea, and More!', 'kind': 'episode', 'year': 2018}, None), ('7060432', {'episode of': 'The Star Wars Show', 'series year': 2016, 'title': 'The Last Jedi Director Rian Johnson, the Best of Celebration, & the Star Wars Show CANNON!', 'kind': 'episode', 'year': 2017}, None), ('8045516', {'episode of': 'The Star Wars Show', 'series year': 2016, 'title': \"Kylo Ren's New Ship, The Last Jedi Cast at D23, & Star Wars: Galaxy's Edge!\", 'kind': 'episode', 'year': 2017}, None), ('8074356', {'episode of': 'The Star Wars Show', 'series year': 2016, 'title': 'Star Wars: The Last Jedi Trailer Reactions, Dave Filoni Talks Rebels Season 4, and More!', 'kind': 'episode', 'year': 2017}, None), ('7229400', {'episode of': 'The Star Wars Show', 'series year': 2016, 'title': 'New The Last Jedi Details, Talking Thrawn with Timothy Zahn & the 40th Anniversary of Star Wars', 'kind': 'episode', 'year': 2017}, None), ('8075052', {'episode of': 'The Star Wars Show', 'series year': 2016, 'title': \"Star Wars Rebels Nears Its End, Inside The Last Jedi's Sound Design with Ren Klyce, and More!\", 'kind': 'episode', 'year': 2018}, None), ('7818896', {'episode of': 'Council of Geeks', 'series year': 2012, 'title': \"The Future of Star Wars (in the wake of The Last Jedi's Second Weekend Box Office Numbers)\", 'kind': 'episode', 'year': 2017}, None), ('7768400', {'episode of': 'The Star Wars Show', 'series year': 2016, 'title': 'The Latest on The Last Jedi, Thrawn: Alliances Cover Revealed, and More!', 'kind': 'episode', 'year': 2017}, None), ('7768404', {'episode of': 'The Star Wars Show', 'series year': 2016, 'title': \"We Talk with the Cast of The Last Jedi, Go to Anthony Daniels' Droid School, and More!\", 'kind': 'episode', 'year': 2017}, None), ('8045530', {'episode of': 'The Star Wars Show', 'series year': 2016, 'title': 'The Last Jedi Director Talks With the Director of Hamilton, Making BB-8 Sounds, and More!', 'kind': 'episode', 'year': 2017}, None), ('6602558', {'episode of': 'The Star Wars Show', 'series year': 2016, 'title': 'The Last Jedi Filmmakers at Celebration and Kitster Attempts a High-Five (Again)', 'kind': 'episode', 'year': 2017}, None), ('7188144', {'episode of': 'The Star Wars Show', 'series year': 2016, 'title': 'The Last Jedi Cast Talks Teaser & the Freemaker Adventures S2 Preview!', 'kind': 'episode', 'year': 2017}, None), ('8045540', {'episode of': 'The Star Wars Show', 'series year': 2016, 'title': \"New The Last Jedi Vehicles Revealed, Exploring Lucasfilm's Vaults, and More!\", 'kind': 'episode', 'year': 2017}, None), ('7768410', {'episode of': 'The Star Wars Show', 'series year': 2016, 'title': 'The Last Jedi Cast Answers YOUR Questions, Behind the Scenes of the Red Carpet Live Stream, & More!', 'kind': 'episode', 'year': 2017}, None)]}\n"
     ]
    }
   ],
   "source": [
    "results = ia.search_movie('Star Wars: The Last Jedi')"
   ]
  },
  {
   "cell_type": "code",
   "execution_count": 28,
   "metadata": {},
   "outputs": [
    {
     "name": "stdout",
     "output_type": "stream",
     "text": [
      "['title', 'year', 'kind', 'cast', 'composers', 'editorial department', 'production managers ', 'art department', 'visual effects', 'animation department', 'casting department', 'costume departmen', 'location management', 'music department', 'transportation department', 'thanks', 'genres', 'runtimes', 'countries', 'country codes', 'language codes', 'color info', 'aspect ratio', 'sound mix', 'certificates', 'original air date', 'rating', 'votes', 'cover url', 'director', 'writer', 'producer', 'cinematographer', 'editor', 'casting director', 'production design', 'art direction', 'set decoration', 'costume designer', 'make up', 'assistant director', 'sound crew', 'special effects companies', 'stunt performer', 'camera and electrical department', 'miscellaneous crew', 'languages', 'akas', 'plot', 'synopsis', 'canonical title', 'long imdb title', 'long imdb canonical title', 'smart canonical title', 'smart long imdb canonical title', 'full-size cover url']\n"
     ]
    }
   ],
   "source": [
    "swtlj = ia.get_movie(results[0].movieID)\n",
    "print(swtlj.keys())"
   ]
  },
  {
   "cell_type": "code",
   "execution_count": 30,
   "metadata": {},
   "outputs": [
    {
     "ename": "NameError",
     "evalue": "name 'normalizeName' is not defined",
     "output_type": "error",
     "traceback": [
      "\u001b[0;31m---------------------------------------------------------------------------\u001b[0m",
      "\u001b[0;31mNameError\u001b[0m                                 Traceback (most recent call last)",
      "\u001b[0;32m<ipython-input-30-a234fc32ec5d>\u001b[0m in \u001b[0;36m<module>\u001b[0;34m()\u001b[0m\n\u001b[0;32m----> 1\u001b[0;31m \u001b[0mia\u001b[0m\u001b[0;34m.\u001b[0m\u001b[0msearch_character\u001b[0m\u001b[0;34m(\u001b[0m\u001b[0mswtlj\u001b[0m\u001b[0;34m[\u001b[0m\u001b[0;34m'cast'\u001b[0m\u001b[0;34m]\u001b[0m\u001b[0;34m[\u001b[0m\u001b[0;36m0\u001b[0m\u001b[0;34m]\u001b[0m\u001b[0;34m[\u001b[0m\u001b[0;34m'name'\u001b[0m\u001b[0;34m]\u001b[0m\u001b[0;34m)\u001b[0m\u001b[0;34m\u001b[0m\u001b[0m\n\u001b[0m\u001b[1;32m      2\u001b[0m \u001b[0;31m# swtlj['cast'][0].keys()\u001b[0m\u001b[0;34m\u001b[0m\u001b[0;34m\u001b[0m\u001b[0m\n",
      "\u001b[0;32m~/Documents/CS230DeepActor/venv/lib/python3.6/site-packages/imdb/__init__.py\u001b[0m in \u001b[0;36msearch_character\u001b[0;34m(self, name, results)\u001b[0m\n\u001b[1;32m    568\u001b[0m         \u001b[0;34m\"\"\"Return a list of 'keyword' strings.\"\"\"\u001b[0m\u001b[0;34m\u001b[0m\u001b[0m\n\u001b[1;32m    569\u001b[0m         \u001b[0;31m# XXX: for the real implementation, see the method of the\u001b[0m\u001b[0;34m\u001b[0m\u001b[0;34m\u001b[0m\u001b[0m\n\u001b[0;32m--> 570\u001b[0;31m         \u001b[0;31m#      subclass, somewhere under the imdb.parser package.\u001b[0m\u001b[0;34m\u001b[0m\u001b[0;34m\u001b[0m\u001b[0m\n\u001b[0m\u001b[1;32m    571\u001b[0m         \u001b[0;32mraise\u001b[0m \u001b[0mNotImplementedError\u001b[0m\u001b[0;34m(\u001b[0m\u001b[0;34m'override this method'\u001b[0m\u001b[0;34m)\u001b[0m\u001b[0;34m\u001b[0m\u001b[0m\n\u001b[1;32m    572\u001b[0m \u001b[0;34m\u001b[0m\u001b[0m\n",
      "\u001b[0;32m~/Documents/CS230DeepActor/venv/lib/python3.6/site-packages/imdb/__init__.py\u001b[0m in \u001b[0;36m_search_character\u001b[0;34m(self, name, results)\u001b[0m\n\u001b[1;32m    512\u001b[0m \u001b[0;34m\u001b[0m\u001b[0m\n\u001b[1;32m    513\u001b[0m         The results argument is the maximum number of results to return.\"\"\"\n\u001b[0;32m--> 514\u001b[0;31m         \u001b[0;32mif\u001b[0m \u001b[0mresults\u001b[0m \u001b[0;32mis\u001b[0m \u001b[0;32mNone\u001b[0m\u001b[0;34m:\u001b[0m\u001b[0;34m\u001b[0m\u001b[0m\n\u001b[0m\u001b[1;32m    515\u001b[0m             \u001b[0mresults\u001b[0m \u001b[0;34m=\u001b[0m \u001b[0mself\u001b[0m\u001b[0;34m.\u001b[0m\u001b[0m_results\u001b[0m\u001b[0;34m\u001b[0m\u001b[0m\n\u001b[1;32m    516\u001b[0m         \u001b[0;32mtry\u001b[0m\u001b[0;34m:\u001b[0m\u001b[0;34m\u001b[0m\u001b[0m\n",
      "\u001b[0;31mNameError\u001b[0m: name 'normalizeName' is not defined"
     ]
    }
   ],
   "source": [
    "ia.search_character(swtlj['cast'][0]['name'])\n",
    "# swtlj['cast'][0].keys()\n"
   ]
  },
  {
   "cell_type": "code",
   "execution_count": 11,
   "metadata": {},
   "outputs": [],
   "source": [
    "mh = swtlj['cast'][0]"
   ]
  },
  {
   "cell_type": "code",
   "execution_count": 12,
   "metadata": {
    "scrolled": true
   },
   "outputs": [
    {
     "name": "stdout",
     "output_type": "stream",
     "text": [
      "{'data': [('0000434', {'name': 'Hamill, Mark'}, None), ('0303991', {'name': 'Gammill, Tom'}, None), ('5514565', {'name': 'Hamill, Mark'}, None), ('4473852', {'name': 'Hamill, Mark'}, None), ('5519022', {'name': 'Hamill, Mark'}, None), ('6922077', {'name': 'Hamill, Mark'}, None), ('3994057', {'name': 'Hamill, Mark'}, None), ('2620662', {'name': 'Hamill, Mark'}, None), ('5164703', {'name': 'Hamil, Mark'}, None), ('1433956', {'name': 'Hamilton, Mark'}, None), ('6627671', {'name': 'Hamil, Mark'}, None), ('0358028', {'name': 'Hamilton, Mark'}, None), ('8305492', {'name': 'Hamill, Mark'}, None), ('5996111', {'name': 'Hammill, Mark'}, None), ('0358043', {'name': 'Hamilton, Mark'}, None), ('1953082', {'name': 'Hamilton, Mark'}, None), ('6306593', {'name': 'Hammil, Mark'}, None), ('7992893', {'name': 'Hamilton, Mark'}, None), ('1338196', {'name': 'Hamilton, Mark'}, None), ('5644362', {'name': 'Hamilton, Mark'}, None), ('3100844', {'name': 'Hamilton, Mark'}, None), ('3416902', {'name': 'Hamilton, Mark'}, None), ('6979809', {'name': 'Hamilton, Mark'}, None), ('1938382', {'name': 'Hamilton, Mark'}, None), ('3686964', {'name': 'Hamilton, Mark'}, None), ('1753116', {'name': 'Hamilton, Mark'}, None), ('0358044', {'name': 'Hamilton, Mark'}, None), ('5336386', {'name': 'Hamilton, Mark'}, None), ('9261575', {'name': 'Hamilton, Mark'}, None), ('4756686', {'name': 'Hamilton, Mark'}, None), ('4160784', {'name': 'Hamilton, Mark'}, None), ('0358042', {'name': 'Hamilton, Mark'}, None), ('8470148', {'name': 'Hamilton, Mark'}, None), ('4772482', {'name': 'Hamilton, Mark'}, None), ('6535875', {'name': 'Hamilton, Mark'}, None), ('1220126', {'name': 'Hamilton, Mark'}, None), ('7809577', {'name': 'Hamilton, Mark'}, None), ('1050812', {'name': 'Hamilton, Mark'}, None), ('4236157', {'name': 'Hamilton, Mark'}, None), ('7910528', {'name': 'Hamilton, Mark'}, None), ('0358041', {'name': 'Hamilton, Mark'}, None), ('5335830', {'name': 'Hamilton, Mark'}, None), ('4315781', {'name': 'Hamilton, Mark'}, None), ('1289731', {'name': 'Hamilyn, Mark'}, None), ('3448051', {'name': 'Hamilton, Mark'}, None), ('3322233', {'name': 'Hamilton, Mark'}, None), ('3922963', {'name': 'Hamilton, Mark'}, None), ('3674543', {'name': 'Hamilton, Mark'}, None), ('0358045', {'name': 'Hamilton, Mark'}, None), ('6889149', {'name': 'Hamilton, Mark'}, None), ('6605164', {'name': 'Hamilton, Mark'}, None), ('8418203', {'name': 'Hamilton, Mark'}, None), ('4187425', {'name': 'Hamill, Hugh Mark'}, None), ('8178908', {'name': 'Markham, Emily'}, None), ('6136578', {'name': 'Markham, Amy'}, None), ('5164697', {'name': 'Mark, Hamil'}, None), ('2393148', {'name': 'Markham, Bill'}, None), ('0943529', {'name': 'Wyatt, Clark Hamilton'}, None), ('1292574', {'name': 'Ritchie, Mark Hamilton'}, None), ('6193647', {'name': 'Markham-Hill, James'}, None), ('8609062', {'name': 'Markham, Gillian'}, None), ('1412216', {'name': 'Markham, Gilligan'}, None)]}\n"
     ]
    }
   ],
   "source": [
    "mh2 = ia.search_person(mh['name'])"
   ]
  },
  {
   "cell_type": "code",
   "execution_count": 13,
   "metadata": {},
   "outputs": [],
   "source": [
    "mh2 = mh2[0]"
   ]
  },
  {
   "cell_type": "code",
   "execution_count": 22,
   "metadata": {},
   "outputs": [
    {
     "ename": "NameError",
     "evalue": "name 'normalizeName' is not defined",
     "output_type": "error",
     "traceback": [
      "\u001b[0;31m---------------------------------------------------------------------------\u001b[0m",
      "\u001b[0;31mNameError\u001b[0m                                 Traceback (most recent call last)",
      "\u001b[0;32m<ipython-input-22-b48afea3ae82>\u001b[0m in \u001b[0;36m<module>\u001b[0;34m()\u001b[0m\n\u001b[0;32m----> 1\u001b[0;31m \u001b[0mia\u001b[0m\u001b[0;34m.\u001b[0m\u001b[0msearch_character\u001b[0m\u001b[0;34m(\u001b[0m\u001b[0;34m'Mark Hamill'\u001b[0m\u001b[0;34m)\u001b[0m\u001b[0;34m\u001b[0m\u001b[0m\n\u001b[0m",
      "\u001b[0;32m~/Documents/CS230DeepActor/venv/lib/python3.6/site-packages/imdb/__init__.py\u001b[0m in \u001b[0;36msearch_character\u001b[0;34m(self, name, results)\u001b[0m\n\u001b[1;32m    568\u001b[0m         \u001b[0;34m\"\"\"Return a list of 'keyword' strings.\"\"\"\u001b[0m\u001b[0;34m\u001b[0m\u001b[0m\n\u001b[1;32m    569\u001b[0m         \u001b[0;31m# XXX: for the real implementation, see the method of the\u001b[0m\u001b[0;34m\u001b[0m\u001b[0;34m\u001b[0m\u001b[0m\n\u001b[0;32m--> 570\u001b[0;31m         \u001b[0;31m#      subclass, somewhere under the imdb.parser package.\u001b[0m\u001b[0;34m\u001b[0m\u001b[0;34m\u001b[0m\u001b[0m\n\u001b[0m\u001b[1;32m    571\u001b[0m         \u001b[0;32mraise\u001b[0m \u001b[0mNotImplementedError\u001b[0m\u001b[0;34m(\u001b[0m\u001b[0;34m'override this method'\u001b[0m\u001b[0;34m)\u001b[0m\u001b[0;34m\u001b[0m\u001b[0m\n\u001b[1;32m    572\u001b[0m \u001b[0;34m\u001b[0m\u001b[0m\n",
      "\u001b[0;32m~/Documents/CS230DeepActor/venv/lib/python3.6/site-packages/imdb/__init__.py\u001b[0m in \u001b[0;36m_search_character\u001b[0;34m(self, name, results)\u001b[0m\n\u001b[1;32m    512\u001b[0m \u001b[0;34m\u001b[0m\u001b[0m\n\u001b[1;32m    513\u001b[0m         The results argument is the maximum number of results to return.\"\"\"\n\u001b[0;32m--> 514\u001b[0;31m         \u001b[0;32mif\u001b[0m \u001b[0mresults\u001b[0m \u001b[0;32mis\u001b[0m \u001b[0;32mNone\u001b[0m\u001b[0;34m:\u001b[0m\u001b[0;34m\u001b[0m\u001b[0m\n\u001b[0m\u001b[1;32m    515\u001b[0m             \u001b[0mresults\u001b[0m \u001b[0;34m=\u001b[0m \u001b[0mself\u001b[0m\u001b[0;34m.\u001b[0m\u001b[0m_results\u001b[0m\u001b[0;34m\u001b[0m\u001b[0m\n\u001b[1;32m    516\u001b[0m         \u001b[0;32mtry\u001b[0m\u001b[0;34m:\u001b[0m\u001b[0;34m\u001b[0m\u001b[0m\n",
      "\u001b[0;31mNameError\u001b[0m: name 'normalizeName' is not defined"
     ]
    }
   ],
   "source": [
    "ia.search_character('Mark Hamill')"
   ]
  },
  {
   "cell_type": "code",
   "execution_count": null,
   "metadata": {},
   "outputs": [],
   "source": [
    "analyze_name()"
   ]
  }
 ],
 "metadata": {
  "kernelspec": {
   "display_name": "Python 3",
   "language": "python",
   "name": "python3"
  },
  "language_info": {
   "codemirror_mode": {
    "name": "ipython",
    "version": 3
   },
   "file_extension": ".py",
   "mimetype": "text/x-python",
   "name": "python",
   "nbconvert_exporter": "python",
   "pygments_lexer": "ipython3",
   "version": "3.6.3"
  }
 },
 "nbformat": 4,
 "nbformat_minor": 2
}
