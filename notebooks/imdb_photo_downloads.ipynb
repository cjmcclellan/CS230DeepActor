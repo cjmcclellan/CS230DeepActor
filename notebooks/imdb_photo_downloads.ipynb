{
 "cells": [
  {
   "cell_type": "markdown",
   "metadata": {},
   "source": [
    "Goal of this script is to take a movie title and then build a quick database of faces for characters in the movie. For example, we take the top 10 actors in a movie, then we get 30 images (just for project size considerations) of that actor's face, hopefully in that role.\n",
    "\n",
    "This will hopefully work by some sort of IMDB query of the movie title which will return the top billed cast. Then the cast members names (along with movie title) can be searched with google images and download images. Each of the images will pass through the face detection algorithm. Only photos with a single face will used for this process."
   ]
  },
  {
   "cell_type": "markdown",
   "metadata": {},
   "source": [
    "### Initialize IMDB"
   ]
  },
  {
   "cell_type": "code",
   "execution_count": 1,
   "metadata": {},
   "outputs": [],
   "source": [
    "from imdb import IMDb\n",
    "ia = IMDb()"
   ]
  },
  {
   "cell_type": "markdown",
   "metadata": {},
   "source": [
    "IMDB package was being annoying so I copied a function out here"
   ]
  },
  {
   "cell_type": "markdown",
   "metadata": {},
   "source": [
    "### Select Newest Start Wars Movie"
   ]
  },
  {
   "cell_type": "code",
   "execution_count": 2,
   "metadata": {
    "scrolled": true
   },
   "outputs": [
    {
     "name": "stdout",
     "output_type": "stream",
     "text": [
      "{'data': [('2527336', {'title': 'Star Wars: The Last Jedi', 'kind': 'movie', 'year': 2017}, None), ('3486354', {'title': 'Star Wars: The Last Jedi', 'kind': 'short', 'year': 2008}, None), ('7760714', {'episode of': 'Caillou Pettis Movie Reviews', 'series year': 2016, 'title': 'Star Wars: The Last Jedi', 'kind': 'episode', 'year': 2017}, None), ('7769872', {'title': 'Star Wars: The Last Jedi Cast Live Q&A', 'kind': 'tv movie', 'year': 2017}, None), ('8074356', {'episode of': 'The Star Wars Show', 'series year': 2016, 'title': 'Star Wars: The Last Jedi Trailer Reactions, Dave Filoni Talks Rebels Season 4, and More!', 'kind': 'episode', 'year': 2017}, None), ('7701852', {'episode of': 'Nostalgia Critic', 'series year': 2007, 'title': 'Star Wars: The Last Jedi', 'kind': 'episode', 'year': 2017}, None), ('7818564', {'episode of': 'Esquina del Cine', 'series year': 2012, 'title': 'Star Wars: The Last Jedi', 'kind': 'episode', 'year': 2017}, None), ('7759086', {'episode of': \"Scott Sullivan's Movie Reviews\", 'series year': 2017, 'title': 'Star Wars: The Last Jedi', 'kind': 'episode', 'year': 2017}, None), ('7745354', {'episode of': 'Roberto Leoni Movie Reviews', 'series year': 2017, 'title': 'Star Wars: the Last Jedi', 'kind': 'episode', 'year': 2017}, None), ('7896080', {'episode of': 'I Hate Everything', 'series year': 2013, 'title': 'Star Wars: The Last Jedi', 'kind': 'episode', 'year': 2018}, None), ('7909372', {'episode of': 'Picture & Score', 'series year': 2017, 'title': 'Star Wars: The Last Jedi', 'kind': 'episode', 'year': 2017}, None), ('7692260', {'episode of': 'Toon Sandwich', 'series year': 2015, 'title': 'Star Wars: The Last Jedi', 'kind': 'episode', 'year': 2017}, None), ('7741030', {'episode of': \"Roeper's Reviews\", 'series year': 2015, 'title': 'Star Wars: The Last Jedi', 'kind': 'episode', 'year': 2017}, None), ('7767902', {'episode of': 'Half in the Bag', 'series year': 2011, 'title': 'Star Wars: The Last Jedi', 'kind': 'episode', 'year': 2017}, None), ('7843732', {'episode of': 'GallifreyanAvenger Reviews', 'series year': 2014, 'title': 'Star Wars: The Last Jedi', 'kind': 'episode', 'year': 2018}, None), ('7851668', {'episode of': 'The Screening Room', 'series year': 2008, 'title': 'Star Wars: The Last Jedi', 'kind': 'episode', 'year': 2018}, None), ('7741398', {'episode of': 'Chris Stuckmann Movie Reviews', 'series year': 2011, 'title': 'Star Wars: The Last Jedi', 'kind': 'episode', 'year': 2017}, None), ('7754942', {'episode of': 'Midnight Screenings', 'series year': 2011, 'title': 'Star Wars: The Last Jedi', 'kind': 'episode', 'year': 2017}, None), ('7949344', {'episode of': {'title': 'Star Wars: The Last Jedi', 'kind': 'tv series'}, 'series year': 1995, 'title': 'Cast', 'kind': 'episode', 'year': 2017}, None), ('7639264', {'episode of': {'title': 'Star Wars: The Last Jedi', 'kind': 'tv series'}, 'series year': 2003, 'title': 'Cast', 'kind': 'episode', 'year': 2017}, None), ('8080688', {'episode of': 'Movie Surfers', 'series year': 1998, 'title': 'Star Wars VIII The Last Jedi', 'kind': 'episode', 'year': 2018}, None), ('7781950', {'episode of': 'Caillou Pettis Movie Reviews', 'series year': 2016, 'title': 'Star Wars: The Last Jedi Spoilers', 'kind': 'episode', 'year': 2017}, None), ('3486324', {'title': 'Star Wars: Last Stand of the Jedi', 'kind': 'short', 'year': 2008}, None), ('7640228', {'title': 'Inter star wars 2. The last jehi', 'kind': 'movie', 'year': 2017}, None), ('7787308', {'title': 'Master the Drive: Nissan Road to Star Wars - The Last Jedi', 'kind': 'tv movie', 'year': 2017}, None), ('7768586', {'title': 'Live from the Red Carpet of Star Wars: The Last Jedi', 'kind': 'tv movie', 'year': 2017}, None), ('8045294', {'title': 'Star Wars: The Last Forcebender', 'kind': 'video movie', 'year': 2018}, None), ('7810706', {'title': 'That movie is not Star wars. Episode VII. Last jedi', 'kind': 'movie', 'year': 2017}, None), ('7745172', {'episode of': 'The Screen Junkies Show', 'series year': 2011, 'title': 'Star Wars: The Last Jedi - Review! (No Spoilers!)', 'kind': 'episode', 'year': 2017}, None), ('7859004', {'episode of': 'Toku Talk', 'series year': 2017, 'title': 'January Premieres and Star Wars: The Last Jedi', 'kind': 'episode', 'year': 2017}, None), ('7836762', {'episode of': 'WatchMojo', 'series year': 2006, 'title': 'Top 5 Things Star Wars: The Last Jedi Got Right', 'kind': 'episode', 'year': 2018}, None), ('7859018', {'episode of': 'WatchMojo', 'series year': 2006, 'title': 'Top 10 Questions Star Wars: The Last Jedi Did Not Answer', 'kind': 'episode', 'year': 2018}, None), ('7836806', {'episode of': 'WatchMojo', 'series year': 2006, 'title': 'Top 5 Legitimate Gripes with Star Wars: The Last Jedi', 'kind': 'episode', 'year': 2018}, None), ('7754974', {'episode of': 'Chris Stuckmann Movie Reviews', 'series year': 2011, 'title': 'Star Wars: The Last Jedi - Spoiler Review', 'kind': 'episode', 'year': 2017}, None), ('7960086', {'episode of': 'Film Theory', 'series year': 2015, 'title': 'How Star Wars Theories KILLED Star Wars: The Last Jedi!', 'kind': 'episode', 'year': 2018}, None), ('8003618', {'episode of': 'How It Should Have Ended', 'series year': 2005, 'title': 'How Star Wars: The Last Jedi Should Have Ended', 'kind': 'episode', 'year': 2018}, None), ('7524584', {'episode of': 'Adults React', 'series year': 2015, 'title': 'ADULTS REACT TO STAR WARS: THE LAST JEDI TRAILER', 'kind': 'episode', 'year': 2017}, None), ('7874908', {'episode of': 'Film Theory', 'series year': 2015, 'title': \"Rey's Parents SOLVED! (Star Wars: The Last Jedi)\", 'kind': 'episode', 'year': 2017}, None), ('7928414', {'episode of': '107 Facts', 'series year': 2015, 'title': '107 Facts About Star Wars: The Last Jedi', 'kind': 'episode', 'year': 2018}, None), ('8003032', {'episode of': 'Screen Rant Pitch Meetings', 'series year': 2017, 'title': 'Star Wars: The Last Jedi: How It All Started', 'kind': 'episode', 'year': 2017}, None), ('8137160', {'episode of': 'Collider Jedi Council', 'series year': 2015, 'title': 'Star Wars: The Last Jedi Panel & Trailer Discussion', 'kind': 'episode', 'year': 2017}, None), ('7771904', {'episode of': 'Film Discussions', 'series year': 2016, 'title': 'Star Wars: The Last Jedi Film Discussion and Review', 'kind': 'episode', 'year': 2017}, None), ('8037052', {'episode of': 'Patrick Willems Video Essays', 'series year': 2016, 'title': 'The Last Jedi: What Do We Want from a Star Wars Movie?', 'kind': 'episode', 'year': 2018}, None), ('6520712', {'title': 'Star Worlds Episode XXXIVE=MC2: The Force Awakens the Last Jedi Who Went Rogue', 'kind': 'movie'}, None), ('7215738', {'episode of': 'IMDb Trailer With Commentary', 'series year': 2016, 'title': \"'Star Wars: The Last Jedi' Trailer With Kevin Smith's Commentary\", 'kind': 'episode', 'year': 2017}, None), ('6806528', {'episode of': 'Adults React', 'series year': 2015, 'title': 'Adults React to Star Wars: The Last Jedi Official Trailer (Ft. FBE Staff)', 'kind': 'episode', 'year': 2017}, None), ('7960066', {'episode of': 'The Oh My Disney Show', 'series year': 2017, 'title': 'Daisy Ridley and Adam Driver Talk About Working Together on Star Wars: The Last Jedi', 'kind': 'episode', 'year': 2017}, None), ('7768402', {'episode of': 'The Star Wars Show', 'series year': 2016, 'title': \"Kelly Marie Tran's The Last Jedi Prank and Google Home's Star Wars Trivia BTS\", 'kind': 'episode', 'year': 2017}, None), ('8045518', {'episode of': 'The Star Wars Show', 'series year': 2016, 'title': 'Han Solo Movie Composer REVEALED, New Star Wars: The Last Jedi Books, and SDCC!', 'kind': 'episode', 'year': 2017}, None), ('7874910', {'episode of': 'Film Theory', 'series year': 2015, 'title': 'How Luke will DIE (Star Wars: The Last Jedi ENDING REVEALED!)', 'kind': 'episode', 'year': 2017}, None), ('8137158', {'episode of': 'Collider Jedi Council', 'series year': 2015, 'title': 'Star Wars: The Last Jedi Trailer Explained - Scene Breakdown', 'kind': 'episode', 'year': 2017}, None), ('8137148', {'episode of': 'Collider Jedi Council', 'series year': 2015, 'title': 'Star Wars: The Last Jedi Poster Reaction - Live from Star Wars Celebration Orlando 2017', 'kind': 'episode', 'year': 2017}, None), ('8137150', {'episode of': 'Collider Jedi Council', 'series year': 2015, 'title': 'Star Wars: The Last Jedi Panel Reaction Live From Star Wars Celebration 2017', 'kind': 'episode', 'year': 2017}, None), ('6961836', {'episode of': 'IMDb Originals', 'series year': 2015, 'title': \"10 Questions About the 'Star Wars: The Last Jedi' Teaser Trailer\", 'kind': 'episode', 'year': 2017}, None), ('7959756', {'episode of': 'The Oh My Disney Show', 'series year': 2017, 'title': 'Red Carpet Interviews at the World Premiere of Star Wars: The Last Jedi', 'kind': 'episode', 'year': 2017}, None), ('6877260', {'episode of': 'Council of Geeks', 'series year': 2012, 'title': 'Star Wars Episode VIII: The Last Jedi - Trailer Reaction', 'kind': 'episode', 'year': 2017}, None), ('8137134', {'episode of': 'Collider Jedi Council', 'series year': 2015, 'title': 'The Last Jedi Trailer Speculation - Live from Star Wars Celebration 2017', 'kind': 'episode', 'year': 2017}, None), ('8042912', {'episode of': 'The Monday Show', 'series year': 2017, 'title': 'Fanboys, STAR WARS 1-7 + The Last Jedi SPOILER Discussion', 'kind': 'episode', 'year': 2017}, None), ('7877140', {'episode of': 'Council of Geeks', 'series year': 2012, 'title': \"What's the Star Wars Future Looking Like a Month After Last Jedi?\", 'kind': 'episode', 'year': 2018}, None), ('7569762', {'episode of': 'Made in Hollywood', 'series year': 2005, 'title': 'Star Wars: The Last Jedi/Jumanji: Welcome to the Jungle/The Greatest Showman/Downsizing', 'kind': 'episode', 'year': 2017}, None), ('8045526', {'episode of': 'The Star Wars Show', 'series year': 2016, 'title': 'New The Last Jedi Images, The Star Wars Show Goes Hollywood, Lost Lucasfilm Loot, & More!', 'kind': 'episode', 'year': 2017}, None), ('8045486', {'episode of': 'The Star Wars Show', 'series year': 2016, 'title': 'The Last Jedi Comes Home, Solo Books Revealed & New Star Wars Toys from Toy Fair 2018!', 'kind': 'episode', 'year': 2018}, None), ('8137142', {'episode of': 'Collider Jedi Council', 'series year': 2015, 'title': 'Star Wars: The Last Jedi Teaser Trailer Reaction - Live from Star Wars Celebration Orlando 2017', 'kind': 'episode', 'year': 2017}, None), ('7060432', {'episode of': 'The Star Wars Show', 'series year': 2016, 'title': 'The Last Jedi Director Rian Johnson, the Best of Celebration, & the Star Wars Show CANNON!', 'kind': 'episode', 'year': 2017}, None), ('8045516', {'episode of': 'The Star Wars Show', 'series year': 2016, 'title': \"Kylo Ren's New Ship, The Last Jedi Cast at D23, & Star Wars: Galaxy's Edge!\", 'kind': 'episode', 'year': 2017}, None), ('8019070', {'episode of': 'The Star Wars Show', 'series year': 2016, 'title': 'The Last Jedi Novelization to Feature Deleted Scenes, Star Wars Day at Sea, and More!', 'kind': 'episode', 'year': 2018}, None), ('7229400', {'episode of': 'The Star Wars Show', 'series year': 2016, 'title': 'New The Last Jedi Details, Talking Thrawn with Timothy Zahn & the 40th Anniversary of Star Wars', 'kind': 'episode', 'year': 2017}, None), ('8075052', {'episode of': 'The Star Wars Show', 'series year': 2016, 'title': \"Star Wars Rebels Nears Its End, Inside The Last Jedi's Sound Design with Ren Klyce, and More!\", 'kind': 'episode', 'year': 2018}, None), ('7818896', {'episode of': 'Council of Geeks', 'series year': 2012, 'title': \"The Future of Star Wars (in the wake of The Last Jedi's Second Weekend Box Office Numbers)\", 'kind': 'episode', 'year': 2017}, None), ('7768400', {'episode of': 'The Star Wars Show', 'series year': 2016, 'title': 'The Latest on The Last Jedi, Thrawn: Alliances Cover Revealed, and More!', 'kind': 'episode', 'year': 2017}, None), ('6602558', {'episode of': 'The Star Wars Show', 'series year': 2016, 'title': 'The Last Jedi Filmmakers at Celebration and Kitster Attempts a High-Five (Again)', 'kind': 'episode', 'year': 2017}, None), ('7768404', {'episode of': 'The Star Wars Show', 'series year': 2016, 'title': \"We Talk with the Cast of The Last Jedi, Go to Anthony Daniels' Droid School, and More!\", 'kind': 'episode', 'year': 2017}, None), ('8045530', {'episode of': 'The Star Wars Show', 'series year': 2016, 'title': 'The Last Jedi Director Talks With the Director of Hamilton, Making BB-8 Sounds, and More!', 'kind': 'episode', 'year': 2017}, None), ('7188144', {'episode of': 'The Star Wars Show', 'series year': 2016, 'title': 'The Last Jedi Cast Talks Teaser & the Freemaker Adventures S2 Preview!', 'kind': 'episode', 'year': 2017}, None), ('8045540', {'episode of': 'The Star Wars Show', 'series year': 2016, 'title': \"New The Last Jedi Vehicles Revealed, Exploring Lucasfilm's Vaults, and More!\", 'kind': 'episode', 'year': 2017}, None), ('7768410', {'episode of': 'The Star Wars Show', 'series year': 2016, 'title': 'The Last Jedi Cast Answers YOUR Questions, Behind the Scenes of the Red Carpet Live Stream, & More!', 'kind': 'episode', 'year': 2017}, None)]}\n"
     ]
    }
   ],
   "source": [
    "movie = 'Star Wars: The Last Jedi'\n",
    "results = ia.search_movie(movie)"
   ]
  },
  {
   "cell_type": "code",
   "execution_count": 3,
   "metadata": {},
   "outputs": [],
   "source": [
    "swtlj = ia.get_movie(results[0].movieID)"
   ]
  },
  {
   "cell_type": "code",
   "execution_count": 4,
   "metadata": {},
   "outputs": [
    {
     "data": {
      "text/plain": [
       "'Carrie Fisher'"
      ]
     },
     "execution_count": 4,
     "metadata": {},
     "output_type": "execute_result"
    }
   ],
   "source": [
    "swtlj['cast'][1]['name']"
   ]
  },
  {
   "cell_type": "code",
   "execution_count": 5,
   "metadata": {},
   "outputs": [
    {
     "data": {
      "text/plain": [
       "'Leia Organa'"
      ]
     },
     "execution_count": 5,
     "metadata": {},
     "output_type": "execute_result"
    }
   ],
   "source": [
    "swtlj['cast'][1].notes"
   ]
  },
  {
   "cell_type": "markdown",
   "metadata": {},
   "source": [
    "I couldn't get the character search to work, but I have managed to find that the character information seems to be stored in the notes attribute of the actor. Just to be sure, I will check that this holds for a different movie"
   ]
  },
  {
   "cell_type": "code",
   "execution_count": 6,
   "metadata": {},
   "outputs": [
    {
     "name": "stdout",
     "output_type": "stream",
     "text": [
      "{'data': [('5580390', {'title': 'The Shape of Water', 'kind': 'movie', 'year': 2017}, None), ('0887779', {'title': 'The Shape of Water', 'kind': 'movie', 'year': 2006}, None), ('1600753', {'title': 'The Shape of Water', 'kind': 'short', 'year': 2007}, None), ('8012518', {'episode of': 'Roberto Leoni Movie Reviews', 'series year': 2017, 'title': 'The Shape of Water', 'kind': 'episode', 'year': 2018}, None), ('7798798', {'episode of': \"Scott Sullivan's Movie Reviews\", 'series year': 2017, 'title': 'The Shape of Water', 'kind': 'episode', 'year': 2017}, None), ('7956096', {'episode of': 'Council of Geeks', 'series year': 2012, 'title': 'The Shape of Water Review - Monstrously Beautiful (Spoiler Free)', 'kind': 'episode', 'year': 2018}, None), ('0199536', {'episode of': 'Inspector Montalbano', 'series year': 1999, 'title': 'The Shape of Water', 'kind': 'episode', 'year': 2000}, None), ('7360798', {'episode of': 'The IMDb Studio', 'series year': 2011, 'title': \"The Shape of Water' Cast Revels in the Magic of Guillermo del Toro\", 'kind': 'episode', 'year': 2017}, None), ('1390457', {'title': 'The Shape of Wales', 'kind': 'tv series', 'year': 2001}, None), ('6213372', {'episode of': 'Horizon', 'series year': 1964, 'title': 'The Shape of War to Come', 'kind': 'episode', 'year': 1967}, None), ('8009290', {'episode of': 'Midnight Screenings', 'series year': 2011, 'title': 'Phantom Thread/The Shape of Water', 'kind': 'episode', 'year': 2018}, None), ('2300719', {'episode of': 'World in Action', 'series year': 1963, 'title': 'The Shape of Wars to Come', 'kind': 'episode', 'year': 1981}, None), ('7629066', {'episode of': 'Hollywood on Set', 'series year': 2003, 'title': 'American Made/THe Shape of Water/Friend Request', 'kind': 'episode', 'year': 2017}, None), ('4599804', {'episode of': 'Wild Weather', 'series year': 2014, 'title': 'Water: The Shape Shifter', 'kind': 'episode', 'year': 2014}, None), ('8065054', {'episode of': 'Larry King Now', 'series year': 2012, 'title': \"Richard Jenkins on 'The Shape of Water', Oscars 2018, & 'Step Brothers'\", 'kind': 'episode', 'year': 2018}, None), ('7360350', {'episode of': 'The IMDb Studio', 'series year': 2011, 'title': \"Fans Will Appreciate the Perfect Monster From 'The Shape of Water'\", 'kind': 'episode', 'year': 2017}, None), ('7682252', {'episode of': 'Made in Hollywood', 'series year': 2005, 'title': 'Coco/The Man Who Invented Christmas/Darkest Hour/The Shape of Water', 'kind': 'episode', 'year': 2017}, None)]}\n"
     ]
    }
   ],
   "source": [
    "results = ia.search_movie('The Shape of Water')"
   ]
  },
  {
   "cell_type": "code",
   "execution_count": 7,
   "metadata": {},
   "outputs": [],
   "source": [
    "tsow = ia.get_movie(results[0].movieID)"
   ]
  },
  {
   "cell_type": "code",
   "execution_count": 8,
   "metadata": {},
   "outputs": [
    {
     "data": {
      "text/plain": [
       "'Doug Jones'"
      ]
     },
     "execution_count": 8,
     "metadata": {},
     "output_type": "execute_result"
    }
   ],
   "source": [
    "tsow['cast'][5]['name']"
   ]
  },
  {
   "cell_type": "code",
   "execution_count": 9,
   "metadata": {},
   "outputs": [
    {
     "data": {
      "text/plain": [
       "'Amphibian Man'"
      ]
     },
     "execution_count": 9,
     "metadata": {},
     "output_type": "execute_result"
    }
   ],
   "source": [
    "tsow['cast'][5].notes"
   ]
  },
  {
   "cell_type": "markdown",
   "metadata": {},
   "source": [
    "Character extraction seems to work for now"
   ]
  },
  {
   "cell_type": "markdown",
   "metadata": {},
   "source": [
    "## Checking Google Images Downloads"
   ]
  },
  {
   "cell_type": "code",
   "execution_count": 10,
   "metadata": {},
   "outputs": [
    {
     "name": "stdout",
     "output_type": "stream",
     "text": [
      "Luke_Skywalker--Mark_Hamill/\n"
     ]
    }
   ],
   "source": [
    "output_root = '../train_data/FaceID/'\n",
    "movie_dir = output_root + '_'.join(movie.split()) + '/'\n",
    "downloads_dir = movie_dir + 'downloaded/'\n",
    "raw_dir = movie_dir + 'raw/'\n",
    "face_dir = movie_dir + 'face/'\n",
    "flat_dir = movie_dir + 'flattened/'\n",
    "\n",
    "character = swtlj['cast'][0].notes.split('/')[0]\n",
    "\n",
    "char_actor = '--'.join(['_'.join(character.split()), '_'.join(swtlj['cast'][0]['name'].split())]) + '/'\n",
    "print(char_actor)"
   ]
  },
  {
   "cell_type": "code",
   "execution_count": 11,
   "metadata": {},
   "outputs": [],
   "source": [
    "import os\n",
    "# Create directories for other outputs\n",
    "if not os.path.exists(raw_dir + char_actor):\n",
    "    os.makedirs(raw_dir + char_actor)\n",
    "    \n",
    "if not os.path.exists(face_dir + char_actor):\n",
    "    os.makedirs(face_dir + char_actor)\n",
    "    \n",
    "if not os.path.exists(flat_dir + char_actor):\n",
    "    os.makedirs(flat_dir + char_actor)\n",
    "    \n",
    "if not os.path.exists(downloads_dir):\n",
    "    os.makedirs(downloads_dir)    "
   ]
  },
  {
   "cell_type": "code",
   "execution_count": 12,
   "metadata": {},
   "outputs": [
    {
     "name": "stdout",
     "output_type": "stream",
     "text": [
      "Luke Skywalker  Star Wars: The Last Jedi\n",
      "../train_data/FaceID/Star_Wars:_The_Last_Jedi/downloaded/\"Luke Skywalker  Star Wars: The Last Jedi\"\n"
     ]
    }
   ],
   "source": [
    "query = ' '.join([character, movie])\n",
    "print(query)\n",
    "query_dir = downloads_dir + '\\\"{}\\\"'.format(query)\n",
    "print(query_dir)"
   ]
  },
  {
   "cell_type": "code",
   "execution_count": 13,
   "metadata": {
    "scrolled": true
   },
   "outputs": [
    {
     "name": "stdout",
     "output_type": "stream",
     "text": [
      "b'\\nItem no.: 1 --> Item name = \"Luke Skywalker  Star Wars: The Last Jedi\"\\nEvaluating...\\nStarting Download...\\nCompleted Image ====> 1. luke+skywalker-the-last-jedi-rock-on-gt.jpg\\nCompleted Image ====> 2. crouch-star-wars-the-last-jedi-hamill.jpg\\nCompleted Image ====> 3. luke-skywalker-the-last-jedi-slice-600x200.jpe\\nCompleted Image ====> 4. lukeskywalker.jpg\\nCompleted Image ====> 5. landscape-1492198346-sw22.jpg\\nCompleted Image ====> 6. star-wars-the-last-jedi-94-600x250.jpg\\nCompleted Image ====> 7. thelastjedilukeskywalker-767152.jpg\\nCompleted Image ====> 8. luke-skywalker-star-wars-the-last-jedi-dhjpg.jpe\\nCompleted Image ====> 9. luke-skywalker-star-wars-the-last-jedi-fate.jpg\\nCompleted Image ====> 10. luke-skywalker-star-wars-920x584.jpg\\nCompleted Image ====> 11. luke-skywalker-new-costume-photo-star-wars-last.jpg\\nCompleted Image ====> 12. hot-toys-star-wars-luke-skywalker-collectible-figure-deluxe-pr1-1064914.jpg\\nCompleted Image ====> 13. luke-skywalker-star-wars-8-the-last-jedi-799580.jpg\\nCompleted Image ====> 14. luke-skywalker-star-wars-the-last-jedi-hot-toy-revealed-00.jpg\\nCompleted Image ====> 15. star-wars-the-last-jedi-3.jpg\\nCompleted Image ====> 16. luke3.jpg\\nCompleted Image ====> 17. luke-skywalker-star-wars-the-last-jedi-dhjpg-e1516384770647.jpe\\nCompleted Image ====> 18. luke-skywalker-star-wars-the-last-jedi-hot-toy-revealed-1.jpg\\nCompleted Image ====> 19. mark-hamill-star-wars-the-last-jedi.jpg\\nCompleted Image ====> 20. luke-skywalker-star-wars-the-last-jedi-5k-2017-1x-480x854.jpg\\n\\nEverything downloaded!\\nTotal Errors: 0\\n\\nTotal time taken: 5.564131259918213 Seconds\\n'\n"
     ]
    }
   ],
   "source": [
    "import subprocess\n",
    "print(subprocess.check_output(['googleimagesdownload', '-k','\\\"{}\\\"'.format(query), '-l', '20', '-o', downloads_dir, '-f', 'jpg', '-s', 'medium']))\n",
    "# Do medium pictures because large pictures causes the face detector to break"
   ]
  },
  {
   "cell_type": "markdown",
   "metadata": {},
   "source": [
    "Lets make sure there's only one face in the picture. If there is, move that photo up a directory. \n",
    "Also, take the face and flatten it. Save it to the non-raw directory\n"
   ]
  },
  {
   "cell_type": "code",
   "execution_count": 14,
   "metadata": {},
   "outputs": [
    {
     "name": "stderr",
     "output_type": "stream",
     "text": [
      "/home/alex/Documents/CS230DeepActor/venv/lib/python3.6/site-packages/h5py/__init__.py:36: FutureWarning: Conversion of the second argument of issubdtype from `float` to `np.floating` is deprecated. In future, it will be treated as `np.float64 == np.dtype(float).type`.\n",
      "  from ._conv import register_converters as _register_converters\n"
     ]
    }
   ],
   "source": [
    "import sys\n",
    "sys.path.append('../')\n",
    "import facenet.contributed.face as face\n",
    "from imageio import imread, imwrite\n",
    "from os import listdir\n",
    "from os.path import isfile, join\n",
    "from shutil import copy"
   ]
  },
  {
   "cell_type": "code",
   "execution_count": 15,
   "metadata": {},
   "outputs": [
    {
     "name": "stdout",
     "output_type": "stream",
     "text": [
      "20\n",
      "['8. luke-skywalker-star-wars-the-last-jedi-dhjpg.jpe', '9. luke-skywalker-star-wars-the-last-jedi-fate.jpg', '6. star-wars-the-last-jedi-94-600x250.jpg', '11. luke-skywalker-new-costume-photo-star-wars-last.jpg', '16. luke3.jpg', '2. crouch-star-wars-the-last-jedi-hamill.jpg', '19. mark-hamill-star-wars-the-last-jedi.jpg', '15. star-wars-the-last-jedi-3.jpg', '12. hot-toys-star-wars-luke-skywalker-collectible-figure-deluxe-pr1-1064914.jpg', '20. luke-skywalker-star-wars-the-last-jedi-5k-2017-1x-480x854.jpg', '4. lukeskywalker.jpg', '17. luke-skywalker-star-wars-the-last-jedi-dhjpg-e1516384770647.jpe', '1. luke+skywalker-the-last-jedi-rock-on-gt.jpg', '7. thelastjedilukeskywalker-767152.jpg', '10. luke-skywalker-star-wars-920x584.jpg', '14. luke-skywalker-star-wars-the-last-jedi-hot-toy-revealed-00.jpg', '5. landscape-1492198346-sw22.jpg', '13. luke-skywalker-star-wars-8-the-last-jedi-799580.jpg', '3. luke-skywalker-the-last-jedi-slice-600x200.jpe', '18. luke-skywalker-star-wars-the-last-jedi-hot-toy-revealed-1.jpg']\n"
     ]
    }
   ],
   "source": [
    "pics = [f for f in listdir(query_dir) if isfile(join(query_dir, f))]\n",
    "print(len(pics))\n",
    "print(pics)"
   ]
  },
  {
   "cell_type": "code",
   "execution_count": 16,
   "metadata": {},
   "outputs": [
    {
     "name": "stdout",
     "output_type": "stream",
     "text": [
      "Skipped 13. luke-skywalker-star-wars-8-the-last-jedi-799580.jpg\n"
     ]
    }
   ],
   "source": [
    "for i, pic in enumerate(pics):\n",
    "    file = query_dir + '/' + pic\n",
    "    curr_img = imread(file)\n",
    "    detector = face.Detection()\n",
    "    detector.minsize = 10\n",
    "    detector.face_crop_margin = 16\n",
    "    faces = detector.find_faces(curr_img)\n",
    "    if len(faces) > 1:\n",
    "        print('Skipped', pic)\n",
    "    else:\n",
    "        copy(file, raw_dir + char_actor + pic)\n",
    "        imwrite(face_dir + char_actor +  '_'.join(character.split()) + \\\n",
    "                                                      '{}.jpg'.format(i+1), faces[0].image, format='jpg')"
   ]
  },
  {
   "cell_type": "code",
   "execution_count": 44,
   "metadata": {},
   "outputs": [],
   "source": [
    "# Flatten faces\n",
    "pwd = os.getcwd()\n",
    "align_path = '../facenet/src/align/'\n",
    "try:\n",
    "    os.chdir(align_path)\n",
    "    subprocess.check_output(['python', 'align_dataset_mtcnn.py', '../../'+face_dir, '../../'+flat_dir])\n",
    "    os.chdir(pwd)\n",
    "except:\n",
    "    os.chdir(pwd)"
   ]
  },
  {
   "cell_type": "code",
   "execution_count": 45,
   "metadata": {},
   "outputs": [
    {
<<<<<<< HEAD
     "ename": "FileNotFoundError",
     "evalue": "[Errno 2] No such file or directory: '../facenet/src/align/'",
     "traceback": [
      "\u001b[0;31m---------------------------------------------------------------------------\u001b[0m",
      "\u001b[0;31mFileNotFoundError\u001b[0m                         Traceback (most recent call last)",
      "\u001b[0;32m<ipython-input-40-c5971fa5fb4c>\u001b[0m in \u001b[0;36m<module>\u001b[0;34m()\u001b[0m\n\u001b[1;32m      3\u001b[0m \u001b[0malign_path\u001b[0m \u001b[0;34m=\u001b[0m \u001b[0;34m'../facenet/src/align/'\u001b[0m\u001b[0;34m\u001b[0m\u001b[0m\n\u001b[1;32m      4\u001b[0m \u001b[0;31m# try:\u001b[0m\u001b[0;34m\u001b[0m\u001b[0;34m\u001b[0m\u001b[0m\n\u001b[0;32m----> 5\u001b[0;31m \u001b[0mos\u001b[0m\u001b[0;34m.\u001b[0m\u001b[0mchdir\u001b[0m\u001b[0;34m(\u001b[0m\u001b[0malign_path\u001b[0m\u001b[0;34m)\u001b[0m\u001b[0;34m\u001b[0m\u001b[0m\n\u001b[0m\u001b[1;32m      6\u001b[0m \u001b[0mprint\u001b[0m\u001b[0;34m(\u001b[0m\u001b[0msubprocess\u001b[0m\u001b[0;34m.\u001b[0m\u001b[0mcheck_output\u001b[0m\u001b[0;34m(\u001b[0m\u001b[0;34m[\u001b[0m\u001b[0;34m'python'\u001b[0m\u001b[0;34m,\u001b[0m \u001b[0;34m'align_dataset_mtcnn.py'\u001b[0m\u001b[0;34m,\u001b[0m \u001b[0;34m'../../'\u001b[0m\u001b[0;34m+\u001b[0m\u001b[0mface_dir\u001b[0m\u001b[0;34m,\u001b[0m \u001b[0;34m'../../'\u001b[0m\u001b[0;34m+\u001b[0m\u001b[0mflat_dir\u001b[0m\u001b[0;34m]\u001b[0m\u001b[0;34m)\u001b[0m\u001b[0;34m)\u001b[0m\u001b[0;34m\u001b[0m\u001b[0m\n\u001b[1;32m      7\u001b[0m \u001b[0mos\u001b[0m\u001b[0;34m.\u001b[0m\u001b[0mchdir\u001b[0m\u001b[0;34m(\u001b[0m\u001b[0mpwd\u001b[0m\u001b[0;34m)\u001b[0m\u001b[0;34m\u001b[0m\u001b[0m\n",
      "\u001b[0;31mFileNotFoundError\u001b[0m: [Errno 2] No such file or directory: '../facenet/src/align/'"
     ],
     "output_type": "error"
=======
     "name": "stdout",
     "output_type": "stream",
     "text": [
      "/home/alex/Documents/CS230DeepActor/notebooks\n"
     ]
>>>>>>> 129c582bee819a5684aa6d34ab164a6e3c841dec
    }
   ],
   "source": [
    "os.chdir(pwd)\n",
    "print(os.getcwd())"
   ]
  },
  {
   "cell_type": "markdown",
   "metadata": {},
   "source": [
    "## Gender guesser"
   ]
  },
  {
   "cell_type": "code",
   "execution_count": 57,
   "metadata": {},
   "outputs": [],
   "source": [
    "# pip install gender_guesser\n",
    "import gender_guesser.detector as gender"
   ]
  },
  {
   "cell_type": "code",
   "execution_count": 60,
   "metadata": {},
   "outputs": [
    {
     "name": "stdout",
     "output_type": "stream",
     "text": [
      "Carrie\n",
      "female\n"
     ]
    }
   ],
   "source": [
    "name = swtlj['cast'][1]['name'].split()[0]\n",
    "print(name)\n",
    "d = gender.Detector()\n",
    "print(d.get_gender(name))"
   ]
  }
 ],
 "metadata": {
  "kernelspec": {
   "display_name": "Python 3",
   "language": "python",
   "name": "python3"
  },
  "language_info": {
   "codemirror_mode": {
    "name": "ipython",
    "version": 3
   },
   "file_extension": ".py",
   "mimetype": "text/x-python",
   "name": "python",
   "nbconvert_exporter": "python",
   "pygments_lexer": "ipython3",
   "version": "3.6.3"
  }
 },
 "nbformat": 4,
 "nbformat_minor": 2
}
