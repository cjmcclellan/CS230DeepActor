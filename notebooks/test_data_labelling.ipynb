{
 "cells": [
  {
   "cell_type": "code",
   "execution_count": 1,
   "metadata": {},
   "outputs": [
    {
     "name": "stderr",
     "output_type": "stream",
     "text": [
      "/home/alex/Documents/CS230DeepActor/venv/lib/python3.6/site-packages/h5py/__init__.py:36: FutureWarning: Conversion of the second argument of issubdtype from `float` to `np.floating` is deprecated. In future, it will be treated as `np.float64 == np.dtype(float).type`.\n",
      "  from ._conv import register_converters as _register_converters\n"
     ]
    }
   ],
   "source": [
    "import os\n",
    "import subprocess\n",
    "import sys\n",
    "sys.path.append('../')\n",
    "import facenet.contributed.face as face\n",
    "from imageio import imread, imwrite\n",
    "from os import listdir\n",
    "from os.path import isfile, join\n",
    "from shutil import copy\n",
    "import pandas as pd\n",
    "\n",
    "test_root = os.path.abspath('../test_data/ridiculous6/')\n",
    "test_pics = os.path.join(test_root, 'flattened/')\n",
    "\n",
    "pic_list = listdir(test_pics)"
   ]
  },
  {
   "cell_type": "code",
   "execution_count": 2,
   "metadata": {},
   "outputs": [],
   "source": [
    "# rename pics, temporary code, run once\n",
    "# for i, pic in enumerate(pic_list):\n",
    "#     filepath = os.path.join(test_pics, pic)\n",
    "#     os.rename(filepath, os.path.join(test_pics, '{}.png'.format(i)))"
   ]
  },
  {
   "cell_type": "code",
   "execution_count": 11,
   "metadata": {
    "scrolled": true
   },
   "outputs": [
    {
     "data": {
      "text/plain": [
       "<bound method NDFrame.head of            0\n",
       "0     45.png\n",
       "1   pics.csv\n",
       "2     50.png\n",
       "3     75.png\n",
       "4      4.png\n",
       "5     59.png\n",
       "6     69.png\n",
       "7     47.png\n",
       "8     24.png\n",
       "9     30.png\n",
       "10    17.png\n",
       "11    18.png\n",
       "12     3.png\n",
       "13    70.png\n",
       "14    53.png\n",
       "15    72.png\n",
       "16    81.png\n",
       "17    46.png\n",
       "18    11.png\n",
       "19    39.png\n",
       "20    68.png\n",
       "21    58.png\n",
       "22    43.png\n",
       "23    76.png\n",
       "24    27.png\n",
       "25    78.png\n",
       "26    41.png\n",
       "27    14.png\n",
       "28    25.png\n",
       "29    36.png\n",
       "..       ...\n",
       "56    57.png\n",
       "57    26.png\n",
       "58    77.png\n",
       "59    64.png\n",
       "60    29.png\n",
       "61    31.png\n",
       "62    23.png\n",
       "63    66.png\n",
       "64    79.png\n",
       "65    44.png\n",
       "66    56.png\n",
       "67    84.png\n",
       "68    28.png\n",
       "69    10.png\n",
       "70    20.png\n",
       "71    13.png\n",
       "72    15.png\n",
       "73    49.png\n",
       "74    12.png\n",
       "75    32.png\n",
       "76    19.png\n",
       "77    60.png\n",
       "78     1.png\n",
       "79     6.png\n",
       "80    82.png\n",
       "81    33.png\n",
       "82    16.png\n",
       "83    34.png\n",
       "84    71.png\n",
       "85    21.png\n",
       "\n",
       "[86 rows x 1 columns]>"
      ]
     },
     "execution_count": 11,
     "metadata": {},
     "output_type": "execute_result"
    }
   ],
   "source": [
    "picdf = pd.DataFrame(pic_list)\n",
    "picdf.head"
   ]
  },
  {
   "cell_type": "code",
   "execution_count": 12,
   "metadata": {},
   "outputs": [],
   "source": [
    "picdf = picdf.sort_values(by=[0])"
   ]
  },
  {
   "cell_type": "code",
   "execution_count": 13,
   "metadata": {},
   "outputs": [],
   "source": [
    "picdf.to_csv(os.path.join(test_pics, 'pics.csv'))"
   ]
  },
  {
   "cell_type": "markdown",
   "metadata": {},
   "source": [
    "I manually entered the labels for the test set"
   ]
  },
  {
   "cell_type": "code",
   "execution_count": 15,
   "metadata": {
    "scrolled": true
   },
   "outputs": [
    {
     "data": {
      "text/plain": [
       "<bound method NDFrame.head of      photo  label\n",
       "0    0.png      3\n",
       "1    1.png      0\n",
       "2    2.png      1\n",
       "3    3.png      1\n",
       "4    4.png      2\n",
       "5    5.png      5\n",
       "6    6.png      3\n",
       "7    7.png      3\n",
       "8    8.png      6\n",
       "9    9.png      1\n",
       "10  10.png      5\n",
       "11  11.png      5\n",
       "12  12.png      3\n",
       "13  13.png      5\n",
       "14  14.png      0\n",
       "15  15.png      0\n",
       "16  16.png      5\n",
       "17  17.png      3\n",
       "18  18.png      5\n",
       "19  19.png      2\n",
       "20  20.png      4\n",
       "21  21.png      1\n",
       "22  22.png      4\n",
       "23  23.png      6\n",
       "24  24.png      0\n",
       "25  25.png      5\n",
       "26  26.png      1\n",
       "27  27.png      0\n",
       "28  28.png      4\n",
       "29  29.png      4\n",
       "..     ...    ...\n",
       "54  55.png      5\n",
       "55  56.png      3\n",
       "56  57.png      2\n",
       "57  58.png      5\n",
       "58  59.png      4\n",
       "59  60.png      4\n",
       "60  61.png      3\n",
       "61  62.png      2\n",
       "62  63.png      6\n",
       "63  64.png      1\n",
       "64  65.png      2\n",
       "65  66.png      4\n",
       "66  67.png      5\n",
       "67  68.png      0\n",
       "68  69.png      4\n",
       "69  70.png      1\n",
       "70  71.png      1\n",
       "71  72.png      3\n",
       "72  73.png      4\n",
       "73  74.png      2\n",
       "74  75.png      5\n",
       "75  76.png      2\n",
       "76  77.png      3\n",
       "77  78.png      3\n",
       "78  79.png      1\n",
       "79  80.png      1\n",
       "80  81.png      1\n",
       "81  82.png      1\n",
       "82  83.png      4\n",
       "83  84.png      3\n",
       "\n",
       "[84 rows x 2 columns]>"
      ]
     },
     "execution_count": 15,
     "metadata": {},
     "output_type": "execute_result"
    }
   ],
   "source": [
    "pic_label = pd.read_csv(os.path.join(test_pics, 'pics_labels.csv'))\n",
    "pic_label.head"
   ]
  },
  {
   "cell_type": "code",
   "execution_count": 17,
   "metadata": {},
   "outputs": [
    {
     "data": {
      "text/plain": [
       "array([[<matplotlib.axes._subplots.AxesSubplot object at 0x7f8e8cabd518>]],\n",
       "      dtype=object)"
      ]
     },
     "execution_count": 17,
     "metadata": {},
     "output_type": "execute_result"
    },
    {
     "data": {
      "image/png": "[encoded data removed]",
      "text/plain": [
       "<Figure size 432x288 with 1 Axes>"
      ]
     },
     "metadata": {},
     "output_type": "display_data"
    }
   ],
   "source": [
    "# Visualize test set distribution\n",
    "pic_label.hist(column=['label'])"
   ]
  },
  {
   "cell_type": "code",
   "execution_count": 32,
   "metadata": {},
   "outputs": [],
   "source": [
    "file_list = pic_label.as_matrix(columns=['photo'])"
   ]
  },
  {
   "cell_type": "code",
   "execution_count": 33,
   "metadata": {},
   "outputs": [],
   "source": [
    "file_list = file_list.reshape(len(file_list))"
   ]
  },
  {
   "cell_type": "code",
   "execution_count": 34,
   "metadata": {},
   "outputs": [
    {
     "data": {
      "text/plain": [
       "'0.png'"
      ]
     },
     "execution_count": 34,
     "metadata": {},
     "output_type": "execute_result"
    }
   ],
   "source": [
    "file_list[0]"
   ]
  },
  {
   "cell_type": "code",
   "execution_count": null,
   "metadata": {},
   "outputs": [],
   "source": []
  }
 ],
 "metadata": {
  "kernelspec": {
   "display_name": "Python 3",
   "language": "python",
   "name": "python3"
  },
  "language_info": {
   "codemirror_mode": {
    "name": "ipython",
    "version": 3
   },
   "file_extension": ".py",
   "mimetype": "text/x-python",
   "name": "python",
   "nbconvert_exporter": "python",
   "pygments_lexer": "ipython3",
   "version": "3.6.3"
  }
 },
 "nbformat": 4,
 "nbformat_minor": 2
}
